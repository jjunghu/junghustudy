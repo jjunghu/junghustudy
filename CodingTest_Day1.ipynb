{
 "cells": [
  {
   "cell_type": "markdown",
   "id": "30dd9caf",
   "metadata": {},
   "source": [
    "### 코딩테스트 연습 1일차"
   ]
  },
  {
   "cell_type": "markdown",
   "id": "cf1cce3f",
   "metadata": {},
   "source": [
    "#### divmod(x, y)"
   ]
  },
  {
   "cell_type": "markdown",
   "id": "71c94643",
   "metadata": {},
   "source": [
    "- 두 숫자를 인자로 전달 받아 첫번째 인자를 두번째 인자로 나눈 몫과 나머지를 tuple 형식으로 반환"
   ]
  },
  {
   "cell_type": "code",
   "execution_count": 2,
   "id": "94a719cb",
   "metadata": {},
   "outputs": [
    {
     "name": "stdout",
     "output_type": "stream",
     "text": [
      "(3, 0)\n",
      "(4, 1)\n"
     ]
    }
   ],
   "source": [
    "# 모든 인자가 양의 정수일 경우\n",
    "print(divmod(6, 2))\n",
    "print(divmod(17, 4))"
   ]
  },
  {
   "cell_type": "code",
   "execution_count": 3,
   "id": "55bab606",
   "metadata": {},
   "outputs": [
    {
     "name": "stdout",
     "output_type": "stream",
     "text": [
      "(-4, -1)\n",
      "(3, -2)\n",
      "(-4, 1)\n"
     ]
    }
   ],
   "source": [
    "# 인자 중 음의 정수가 있을 경우\n",
    "print(divmod(11, -3))\n",
    "print(divmod(-11, -3))\n",
    "print(divmod(-11, 3))"
   ]
  },
  {
   "cell_type": "code",
   "execution_count": 5,
   "id": "1b258510",
   "metadata": {},
   "outputs": [
    {
     "name": "stdout",
     "output_type": "stream",
     "text": [
      "2 1\n",
      "(2, 1)\n"
     ]
    }
   ],
   "source": [
    "# 우리가 알고있는 일반적인 방법과 divmod\n",
    "# ex) 7을 3으로 나눈 몫과 나머지 구하기\n",
    "a = 7\n",
    "b = 3\n",
    "\n",
    "print(a//b, a%b)\n",
    "print(divmod(a, b))"
   ]
  },
  {
   "cell_type": "markdown",
   "id": "52a1e57b",
   "metadata": {},
   "source": [
    "#### lambda"
   ]
  },
  {
   "cell_type": "markdown",
   "id": "b70e8b30",
   "metadata": {},
   "source": [
    "- 이름이 없는 익명 함수 (anonymous function)\n",
    "- 필요시 정의하여 사용하고 버리는 일시적인 함수\n",
    "- lambda 매개변수 : 표현식"
   ]
  },
  {
   "cell_type": "code",
   "execution_count": 6,
   "id": "b2736286",
   "metadata": {},
   "outputs": [
    {
     "data": {
      "text/plain": [
       "50"
      ]
     },
     "execution_count": 6,
     "metadata": {},
     "output_type": "execute_result"
    }
   ],
   "source": [
    "# 일반적인 함수 정의\n",
    "def hap (x, y):\n",
    "    return x + y\n",
    "\n",
    "hap(20, 30)"
   ]
  },
  {
   "cell_type": "code",
   "execution_count": 7,
   "id": "25846a48",
   "metadata": {},
   "outputs": [
    {
     "data": {
      "text/plain": [
       "50"
      ]
     },
     "execution_count": 7,
     "metadata": {},
     "output_type": "execute_result"
    }
   ],
   "source": [
    "# 람다 형식으로 표현하기1\n",
    "# 람다 함수는 정의와 동시에 사용 가능\n",
    "(lambda x, y: x + y)(20, 30)"
   ]
  },
  {
   "cell_type": "code",
   "execution_count": 8,
   "id": "9ccfd7dd",
   "metadata": {},
   "outputs": [
    {
     "data": {
      "text/plain": [
       "8"
      ]
     },
     "execution_count": 8,
     "metadata": {},
     "output_type": "execute_result"
    }
   ],
   "source": [
    "# 람다 형식으로 표현하기2\n",
    "f = lambda x: x + 3\n",
    "f(5)"
   ]
  },
  {
   "cell_type": "markdown",
   "id": "0fd11ed0",
   "metadata": {},
   "source": [
    "#### map(함수, 리스트)"
   ]
  },
  {
   "cell_type": "markdown",
   "id": "3e80a6b8",
   "metadata": {},
   "source": [
    "- ﻿리스트(list)의 요소를 하나씩 꺼내어 함수에 넣고 리턴된 값으로 새로운 리스트를 만들어 주는 함수"
   ]
  },
  {
   "cell_type": "code",
   "execution_count": 9,
   "id": "74a08721",
   "metadata": {},
   "outputs": [
    {
     "data": {
      "text/plain": [
       "[0, 1, 4, 9, 16]"
      ]
     },
     "execution_count": 9,
     "metadata": {},
     "output_type": "execute_result"
    }
   ],
   "source": [
    "list(map(lambda x: x**2, range(5)))"
   ]
  },
  {
   "cell_type": "code",
   "execution_count": 10,
   "id": "06ae8166",
   "metadata": {},
   "outputs": [
    {
     "data": {
      "text/plain": [
       "[35, 23, 13, 22]"
      ]
     },
     "execution_count": 10,
     "metadata": {},
     "output_type": "execute_result"
    }
   ],
   "source": [
    "a = [1, 2, 3, 4]\n",
    "b = [34, 21, 10, 18]\n",
    "\n",
    "list(map(lambda x, y: x + y, a, b))"
   ]
  },
  {
   "cell_type": "markdown",
   "id": "cf0bea7c",
   "metadata": {},
   "source": [
    "#### List comprehension"
   ]
  },
  {
   "cell_type": "markdown",
   "id": "453167f6",
   "metadata": {},
   "source": [
    "- 리스트 안에 for 문을 포함\n",
    "- 좀 더 편리하고 직관적"
   ]
  },
  {
   "cell_type": "code",
   "execution_count": 11,
   "id": "31382d38",
   "metadata": {},
   "outputs": [
    {
     "name": "stdout",
     "output_type": "stream",
     "text": [
      "[3, 6, 9, 12]\n"
     ]
    }
   ],
   "source": [
    "# a 리스트의 각 항목에 3을 곱한 결과를 result 리스트에 담기\n",
    "\n",
    "a = [1, 2, 3, 4]\n",
    "result = []\n",
    "\n",
    "for i in a:\n",
    "    result.append(i * 3)\n",
    "\n",
    "print(result)"
   ]
  },
  {
   "cell_type": "code",
   "execution_count": 12,
   "id": "af734454",
   "metadata": {},
   "outputs": [
    {
     "name": "stdout",
     "output_type": "stream",
     "text": [
      "[3, 6, 9, 12]\n"
     ]
    }
   ],
   "source": [
    "# 위 예제를 list comprehension을 사용하여\n",
    "\n",
    "a = [1, 2, 3, 4]\n",
    "result = [i * 3 for i in a]\n",
    "print(result)"
   ]
  },
  {
   "cell_type": "code",
   "execution_count": 13,
   "id": "3b0f4e3b",
   "metadata": {},
   "outputs": [
    {
     "name": "stdout",
     "output_type": "stream",
     "text": [
      "[6, 12]\n"
     ]
    }
   ],
   "source": [
    "# 짝수에만 3을 곱하여 담기\n",
    "# list comprehension 안에 'if조건' 사용할 수 있음\n",
    "\n",
    "a = [1, 2, 3, 4]\n",
    "result = [i * 3 for i in a if i % 2 == 0]\n",
    "print(result)"
   ]
  },
  {
   "cell_type": "code",
   "execution_count": 14,
   "id": "423428fb",
   "metadata": {},
   "outputs": [],
   "source": [
    "# 정수 n이 주어질 때, n 이하의 짝수를 모두 더한 값을 return하는 solution 함수 정의\n",
    "\n",
    "def solution(n):\n",
    "    return sum([i for i in range(n+1) if i % 2 == 0])"
   ]
  },
  {
   "cell_type": "markdown",
   "id": "3d744d9c",
   "metadata": {},
   "source": [
    "#### range"
   ]
  },
  {
   "cell_type": "markdown",
   "id": "118b24c5",
   "metadata": {},
   "source": [
    "- 연속된 숫자(정수)를 만들어줌"
   ]
  },
  {
   "cell_type": "code",
   "execution_count": 18,
   "id": "3f1ae149",
   "metadata": {},
   "outputs": [
    {
     "data": {
      "text/plain": [
       "[0, 1, 2, 3, 4, 5, 6, 7, 8, 9]"
      ]
     },
     "execution_count": 18,
     "metadata": {},
     "output_type": "execute_result"
    }
   ],
   "source": [
    "# range(stop)\n",
    "# 0 부터 stop-1 까지의 숫자 생성\n",
    "\n",
    "list(range(10))"
   ]
  },
  {
   "cell_type": "code",
   "execution_count": 19,
   "id": "02c448a4",
   "metadata": {},
   "outputs": [
    {
     "data": {
      "text/plain": [
       "[1, 2, 3, 4, 5, 6, 7, 8, 9, 10]"
      ]
     },
     "execution_count": 19,
     "metadata": {},
     "output_type": "execute_result"
    }
   ],
   "source": [
    "# range(start, stop)\n",
    "# start부터 stop-1 까지의 숫자 생성\n",
    "\n",
    "list(range(1, 11))"
   ]
  },
  {
   "cell_type": "code",
   "execution_count": 20,
   "id": "1b493e0d",
   "metadata": {},
   "outputs": [
    {
     "data": {
      "text/plain": [
       "[0, 2, 4, 6, 8, 10, 12, 14, 16, 18, 20]"
      ]
     },
     "execution_count": 20,
     "metadata": {},
     "output_type": "execute_result"
    }
   ],
   "source": [
    "# range(start, stop, step)\n",
    "# step은 숫자의 간격\n",
    "\n",
    "list(range(0, 21, 2))"
   ]
  },
  {
   "cell_type": "code",
   "execution_count": 21,
   "id": "bcc52354",
   "metadata": {},
   "outputs": [
    {
     "data": {
      "text/plain": [
       "[1, 3, 5, 7, 9, 11, 13, 15, 17, 19]"
      ]
     },
     "execution_count": 21,
     "metadata": {},
     "output_type": "execute_result"
    }
   ],
   "source": [
    "list(range(1, 21, 2))"
   ]
  },
  {
   "cell_type": "code",
   "execution_count": 25,
   "id": "bcb5c5be",
   "metadata": {},
   "outputs": [
    {
     "data": {
      "text/plain": [
       "[20, 18, 16, 14, 12, 10, 8, 6, 4, 2]"
      ]
     },
     "execution_count": 25,
     "metadata": {},
     "output_type": "execute_result"
    }
   ],
   "source": [
    "# step으로 음수를 지정할 수도 있음\n",
    "\n",
    "list(range(20, 0, -2))"
   ]
  },
  {
   "cell_type": "code",
   "execution_count": 26,
   "id": "8febd15b",
   "metadata": {},
   "outputs": [],
   "source": [
    "# 정수 n이 주어질 때, n 이하의 짝수를 모두 더한 값을 return하는 solution 함수 정의\n",
    "# 제한사항 0 < n <= 1000\n",
    "\n",
    "def solution(n):\n",
    "    sum(i for i in range(2, n + 1, 2))"
   ]
  },
  {
   "cell_type": "markdown",
   "id": "3196af13",
   "metadata": {},
   "source": [
    "#### .index()"
   ]
  },
  {
   "cell_type": "markdown",
   "id": "a3b58e03",
   "metadata": {},
   "source": [
    "- 리스트 메서드 index()\n",
    "- 리스트 중에서 특정한 원소가 몇 번째 처음으로 등장하는지 알려 줌\n",
    "- 만약 두 번 이상 원소가 중복되어 존재하는 경우, 맨 처음 등장한 순간의 인덱스 출력\n",
    "- 문자열에서도 인덱스를 찾을 수 있음"
   ]
  },
  {
   "cell_type": "code",
   "execution_count": 27,
   "id": "f7f07ff8",
   "metadata": {},
   "outputs": [
    {
     "name": "stdout",
     "output_type": "stream",
     "text": [
      "1\n"
     ]
    }
   ],
   "source": [
    "# list.index(x)\n",
    "# 리스트에서 x의 인덱스 반환\n",
    "\n",
    "# a 리스트에서 10의 인덱스 찾기\n",
    "a = [12, 10, 15, 3, 31, 10, 11, 10]\n",
    "print(a.index(10))"
   ]
  },
  {
   "cell_type": "code",
   "execution_count": 28,
   "id": "fb183fa2",
   "metadata": {},
   "outputs": [
    {
     "name": "stdout",
     "output_type": "stream",
     "text": [
      "5\n"
     ]
    }
   ],
   "source": [
    "# list.index(x, start)\n",
    "# 리스트[start:]에서 x의 인덱스 반환\n",
    "\n",
    "# a 리스트에서 10의 인덱스 찾기 (인덱스 2 이후의)\n",
    "a = [12, 10, 15, 3, 31, 10, 11, 10]\n",
    "print(a.index(10, 2))"
   ]
  },
  {
   "cell_type": "code",
   "execution_count": 30,
   "id": "bc4a12c6",
   "metadata": {},
   "outputs": [
    {
     "name": "stdout",
     "output_type": "stream",
     "text": [
      "7\n"
     ]
    }
   ],
   "source": [
    "# list.index(x, start, stop)\n",
    "# 리스트[start:stop]에서 x의 인덱스 반환\n",
    "# stop은 포함되지 않음. 즉 start부터 stop-1까지의 원소들만 포함\n",
    "\n",
    "# a 리스트에서 10의 인덱스 찾기 (인덱스 6과 8사이의)\n",
    "a = [12, 10, 15, 3, 31, 10, 11, 10]\n",
    "print(a.index(10, 6, 8))"
   ]
  },
  {
   "cell_type": "markdown",
   "id": "2901cb8a",
   "metadata": {},
   "source": [
    "#### sort 함수"
   ]
  },
  {
   "cell_type": "markdown",
   "id": "064ec87e",
   "metadata": {},
   "source": [
    "- list.sort()\n",
    "- 리스트 객체 자체를 정렬해주는 함수\n",
    "- 리스트에만 사용 가능한 리스트 메서드\n",
    "- 기본적으로 리스트를 오름차순으로 정렬해주는 기능\n",
    "- reverse = False: default, 오름차순으로 정렬\n",
    "- reverse = True: 내림차순으로 정렬"
   ]
  },
  {
   "cell_type": "code",
   "execution_count": 32,
   "id": "70d2c430",
   "metadata": {},
   "outputs": [
    {
     "name": "stdout",
     "output_type": "stream",
     "text": [
      "[1, 2, 4, 5, 7, 8, 10, 63, 99]\n"
     ]
    }
   ],
   "source": [
    "# 기본값(오름차순)\n",
    "\n",
    "a = [7, 8, 2, 99, 5, 10, 1, 4, 63]\n",
    "a.sort()\n",
    "print(a)"
   ]
  },
  {
   "cell_type": "code",
   "execution_count": 33,
   "id": "94b99864",
   "metadata": {},
   "outputs": [
    {
     "name": "stdout",
     "output_type": "stream",
     "text": [
      "[1, 2, 4, 5, 7, 8, 10, 63, 99]\n"
     ]
    }
   ],
   "source": [
    "# 오름차순\n",
    "\n",
    "a = [7, 8, 2, 99, 5, 10, 1, 4, 63]\n",
    "a.sort(reverse = False)\n",
    "print(a)"
   ]
  },
  {
   "cell_type": "code",
   "execution_count": 34,
   "id": "c75521f4",
   "metadata": {},
   "outputs": [
    {
     "name": "stdout",
     "output_type": "stream",
     "text": [
      "[99, 63, 10, 8, 7, 5, 4, 2, 1]\n"
     ]
    }
   ],
   "source": [
    "# 내림차순\n",
    "\n",
    "a = [7, 8, 2, 99, 5, 10, 1, 4, 63]\n",
    "a.sort(reverse = True)\n",
    "print(a)"
   ]
  },
  {
   "cell_type": "code",
   "execution_count": null,
   "id": "b83873f6",
   "metadata": {},
   "outputs": [],
   "source": []
  }
 ],
 "metadata": {
  "kernelspec": {
   "display_name": "Python 3 (ipykernel)",
   "language": "python",
   "name": "python3"
  },
  "language_info": {
   "codemirror_mode": {
    "name": "ipython",
    "version": 3
   },
   "file_extension": ".py",
   "mimetype": "text/x-python",
   "name": "python",
   "nbconvert_exporter": "python",
   "pygments_lexer": "ipython3",
   "version": "3.9.13"
  }
 },
 "nbformat": 4,
 "nbformat_minor": 5
}
