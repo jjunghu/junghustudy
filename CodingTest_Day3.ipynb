{
 "cells": [
  {
   "cell_type": "markdown",
   "id": "c581282e",
   "metadata": {},
   "source": [
    "### 코딩테스트 연습 3일차"
   ]
  },
  {
   "cell_type": "markdown",
   "id": "c15da707",
   "metadata": {},
   "source": [
    "#### round()"
   ]
  },
  {
   "cell_type": "markdown",
   "id": "94dda011",
   "metadata": {},
   "source": [
    "- python 내장함수인 round()를 사용하여 반올림\n",
    "- 첫번째 인자로 원하는 수를 입력하면 소수 첫번째 자리에서 반올림할 수 있음\n",
    "- 소수 첫번째 자리가 아닌 다른 자리에서 반올림하길 원한다면, 두번째 인자에 반올림하기를 원하는 자리 값을 입력해주면 됨"
   ]
  },
  {
   "cell_type": "code",
   "execution_count": 1,
   "id": "2c95e309",
   "metadata": {},
   "outputs": [
    {
     "name": "stdout",
     "output_type": "stream",
     "text": [
      "기존 값:  1234.567\n",
      "1의 자리에서 반올림:  1230.0\n",
      "10의 자리에서 반올림:  1200.0\n",
      "100의 자리에서 반올림:  1000.0\n",
      "소수 첫번째 자리에서 반올림:  1235\n",
      "소수 두번째 자리에서 반올림:  1234.6\n",
      "소수 세번째 자리에서 반올림:  1234.57\n"
     ]
    }
   ],
   "source": [
    "num = 1234.567\n",
    "\n",
    "print(\"기존 값: \", num)\n",
    "print(\"1의 자리에서 반올림: \", round(num, -1))\n",
    "print(\"10의 자리에서 반올림: \", round(num, -2))\n",
    "print(\"100의 자리에서 반올림: \", round(num, -3))\n",
    "print(\"소수 첫번째 자리에서 반올림: \", round(num))\n",
    "print(\"소수 두번째 자리에서 반올림: \", round(num, 1))\n",
    "print(\"소수 세번째 자리에서 반올림: \", round(num, 2))"
   ]
  },
  {
   "cell_type": "markdown",
   "id": "777b6727",
   "metadata": {},
   "source": [
    "#### round()의 사사오입 원칙"
   ]
  },
  {
   "cell_type": "markdown",
   "id": "1eca20fd",
   "metadata": {},
   "source": [
    "- 사사오입 원칙: 반올림 대상의 값이 5일 때 앞자리 숫자가 홀수면 올림, 짝수면 내림을 함"
   ]
  },
  {
   "cell_type": "code",
   "execution_count": 2,
   "id": "877259b2",
   "metadata": {},
   "outputs": [
    {
     "name": "stdout",
     "output_type": "stream",
     "text": [
      "2\n",
      "2\n",
      "4\n",
      "4\n"
     ]
    }
   ],
   "source": [
    "print(round(1.5))\n",
    "print(round(2.5))\n",
    "print(round(3.5))\n",
    "print(round(4.5))"
   ]
  },
  {
   "cell_type": "markdown",
   "id": "7456970c",
   "metadata": {},
   "source": [
    "#### 올림"
   ]
  },
  {
   "cell_type": "markdown",
   "id": "337d9732",
   "metadata": {},
   "source": [
    "- 올림은 math 모듈을 import 하고, ceil()함수 사용\n",
    "- from math import ceil "
   ]
  },
  {
   "cell_type": "code",
   "execution_count": 4,
   "id": "47ebe99f",
   "metadata": {},
   "outputs": [
    {
     "name": "stdout",
     "output_type": "stream",
     "text": [
      "2\n",
      "9\n"
     ]
    }
   ],
   "source": [
    "import math\n",
    "\n",
    "print(math.ceil(1.23))\n",
    "print(math.ceil(8.12))"
   ]
  },
  {
   "cell_type": "code",
   "execution_count": 5,
   "id": "212a607b",
   "metadata": {},
   "outputs": [
    {
     "name": "stdout",
     "output_type": "stream",
     "text": [
      "2\n",
      "9\n"
     ]
    }
   ],
   "source": [
    "from math import ceil\n",
    "\n",
    "print(ceil(1.23))\n",
    "print(ceil(8.12))"
   ]
  },
  {
   "cell_type": "markdown",
   "id": "92e45d07",
   "metadata": {},
   "source": [
    "#### 내림"
   ]
  },
  {
   "cell_type": "markdown",
   "id": "4c1fa08b",
   "metadata": {},
   "source": [
    "- 내림은 math 모듈을 import하고, floor() 함수 사용\n",
    "- from math import ceil"
   ]
  },
  {
   "cell_type": "code",
   "execution_count": 7,
   "id": "aa3eb9c8",
   "metadata": {},
   "outputs": [
    {
     "name": "stdout",
     "output_type": "stream",
     "text": [
      "1\n",
      "8\n"
     ]
    }
   ],
   "source": [
    "import math\n",
    "\n",
    "print(math.floor(1.23))\n",
    "print(math.floor(8.12))"
   ]
  },
  {
   "cell_type": "code",
   "execution_count": 11,
   "id": "7aae62c4",
   "metadata": {},
   "outputs": [
    {
     "name": "stdout",
     "output_type": "stream",
     "text": [
      "2\n"
     ]
    }
   ],
   "source": [
    "sides = [1, 2, 3]\n",
    "\n",
    "a = sides.pop(1)\n",
    "print(a)"
   ]
  },
  {
   "cell_type": "markdown",
   "id": "27038e80",
   "metadata": {},
   "source": [
    "#### join 함수"
   ]
  },
  {
   "cell_type": "markdown",
   "id": "b8acfece",
   "metadata": {},
   "source": [
    "- ''.join(리스트)\n",
    "- '구분자'.join(리스트)\n",
    "- join 함수는 매개변수로 들어온 리스트에 있는 요소 하나하나를 합쳐서 하나의 문자열로 바꾸어 변환하는 함수"
   ]
  },
  {
   "cell_type": "code",
   "execution_count": 14,
   "id": "f5fd3fd3",
   "metadata": {},
   "outputs": [
    {
     "name": "stdout",
     "output_type": "stream",
     "text": [
      "['h', 'e', 'l', 'l', 'o']\n",
      "\n",
      "hello\n"
     ]
    }
   ],
   "source": [
    "# 리스트 요소들을 문자열로 변환하기\n",
    "list = ['h', 'e', 'l', 'l', 'o']\n",
    "print(list)\n",
    "print()\n",
    "\n",
    "result = ''.join(list)\n",
    "print(result)"
   ]
  },
  {
   "cell_type": "code",
   "execution_count": 17,
   "id": "7059ec76",
   "metadata": {},
   "outputs": [
    {
     "name": "stdout",
     "output_type": "stream",
     "text": [
      "['hello', 'python', 'i', 'am', 'dal9']\n",
      "\n",
      "hello_python_i_am_dal9\n",
      "\n",
      "hello.python.i.am.dal9\n"
     ]
    }
   ],
   "source": [
    "# 리스트 요소들 사이에 구분자 넣어진 문자열로 변환하기\n",
    "list = ['hello', 'python', 'i', 'am', 'dal9']\n",
    "print(list)\n",
    "print()\n",
    "\n",
    "result = '_'.join(list)\n",
    "print(result)\n",
    "print()\n",
    "\n",
    "result1 = '.'.join(list)\n",
    "print(result1)"
   ]
  },
  {
   "cell_type": "code",
   "execution_count": null,
   "id": "657c0b22",
   "metadata": {},
   "outputs": [],
   "source": []
  }
 ],
 "metadata": {
  "kernelspec": {
   "display_name": "Python 3 (ipykernel)",
   "language": "python",
   "name": "python3"
  },
  "language_info": {
   "codemirror_mode": {
    "name": "ipython",
    "version": 3
   },
   "file_extension": ".py",
   "mimetype": "text/x-python",
   "name": "python",
   "nbconvert_exporter": "python",
   "pygments_lexer": "ipython3",
   "version": "3.9.13"
  }
 },
 "nbformat": 4,
 "nbformat_minor": 5
}
