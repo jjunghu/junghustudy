{
 "cells": [
  {
   "cell_type": "markdown",
   "id": "1423d8e3",
   "metadata": {},
   "source": [
    "### 코딩테스트 4일차"
   ]
  },
  {
   "cell_type": "markdown",
   "id": "f9721207",
   "metadata": {},
   "source": [
    "#### 정규표현식 re 모듈"
   ]
  },
  {
   "cell_type": "markdown",
   "id": "582bbf03",
   "metadata": {},
   "source": [
    "- 정규 표현식(Regular Expression)은 문자열을 처리하는 방법 중 하나로 \"특정 조건 또는 패턴\"을 치환하는 과정을 쉽게 처리할 수 있는 방법\n",
    "- Python에서 정규식을 처리하는 모듈은 re!\n",
    "    - 제공해주는 함수들: match(), fullmatch(), findall(), search() 등등"
   ]
  },
  {
   "cell_type": "markdown",
   "id": "3594d76d",
   "metadata": {},
   "source": [
    "만약 문자열 안에 정수만 추출하고 싶다면 문자열에서 제공하는 함수만으로는 한계. 이럴 때, 정규 표현식을 사용하면 쉽게 찾을 수 있음\n"
   ]
  },
  {
   "cell_type": "code",
   "execution_count": 1,
   "id": "4a3bdef5",
   "metadata": {},
   "outputs": [
    {
     "name": "stdout",
     "output_type": "stream",
     "text": [
      "['123', '56']\n"
     ]
    }
   ],
   "source": [
    "import re\n",
    "\n",
    "print(re. findall('\\d+', 'abc123def56zz'))"
   ]
  },
  {
   "cell_type": "markdown",
   "id": "861a1a52",
   "metadata": {},
   "source": [
    "#### match(패턴, 문자열, 플래그)\n",
    "- match()는 문자열의 처음부터 시작해서 작성한 패턴이 일치하는지 확인"
   ]
  },
  {
   "cell_type": "code",
   "execution_count": 5,
   "id": "4535718c",
   "metadata": {},
   "outputs": [
    {
     "name": "stdout",
     "output_type": "stream",
     "text": [
      "<re.Match object; span=(0, 1), match='a'>\n",
      "<re.Match object; span=(0, 2), match='ab'>\n",
      "None\n",
      "None\n",
      "None\n"
     ]
    }
   ],
   "source": [
    "import re\n",
    "\n",
    "print(re.match('a', 'ab'))\n",
    "print(re.match('ab', 'abdd'))\n",
    "print(re.match('a', 'bba'))\n",
    "print(re.match('a', 'wadd'))\n",
    "print(re.match('ab', 'aabdd'))"
   ]
  },
  {
   "cell_type": "markdown",
   "id": "cba5375b",
   "metadata": {},
   "source": [
    "#### search(패턴, 문자열, 플래그)\n",
    "- search()는 match()와 유사하지만 패턴이 문자열의 처음부터 일치하지 않아도 괜찮\n",
    "- 패턴과 일치만 한다면 문자열의 시작과는 상관없이 전부 찾아서 결과를 반환"
   ]
  },
  {
   "cell_type": "code",
   "execution_count": 12,
   "id": "1644f0cc",
   "metadata": {},
   "outputs": [
    {
     "name": "stdout",
     "output_type": "stream",
     "text": [
      "<re.Match object; span=(0, 1), match='a'>\n",
      "<re.Match object; span=(2, 4), match='ab'>\n",
      "<re.Match object; span=(3, 4), match='a'>\n"
     ]
    }
   ],
   "source": [
    "import re\n",
    "\n",
    "print(re.search('a', 'abc'))\n",
    "print(re.search('ab', 'wdabsx'))\n",
    "print(re.search('a', 'bbbaa'))"
   ]
  },
  {
   "cell_type": "markdown",
   "id": "f38b5def",
   "metadata": {},
   "source": [
    "#### findall(패턴, 문자열, 플래그)\n",
    "- findall()은 문자열 안에 패턴에 맞는 케이스를 전부 찾아서 리스트로 반환"
   ]
  },
  {
   "cell_type": "code",
   "execution_count": 13,
   "id": "a83b2e30",
   "metadata": {},
   "outputs": [
    {
     "name": "stdout",
     "output_type": "stream",
     "text": [
      "['a']\n",
      "['a', 'a']\n",
      "['abc', 'abc']\n",
      "['aaa']\n",
      "['1', '2', '3', '5', '6', '0', '9', '8']\n",
      "['123', '56', '098']\n"
     ]
    }
   ],
   "source": [
    "import re\n",
    "\n",
    "print(re.findall('a', 'a'))\n",
    "print(re.findall('a', 'aba'))\n",
    "print(re.findall('abc', 'abcabdabc'))\n",
    "print(re.findall('aaa', 'aaaa'))\n",
    "print(re.findall('\\d', 'abc123to56lpl098'))\n",
    "print(re.findall('\\d+', 'abc123to56lpl098'))"
   ]
  },
  {
   "cell_type": "markdown",
   "id": "98a2cdd9",
   "metadata": {},
   "source": [
    "#### filter 내장함수\n",
    "- 여러 개의 데이터로부터 일부의 데이터로만 추려낼 때 사용\n",
    "- filter(조건 함수, 순회 가능한 데이터)\n",
    "- filter() 함수는 filter 타입으로 결과를 리턴\n",
    "- 따라서, 이후 list()나 tuple() 사용하여 list나 tuple로 변환 가능"
   ]
  },
  {
   "cell_type": "code",
   "execution_count": 15,
   "id": "a2f993a7",
   "metadata": {},
   "outputs": [],
   "source": [
    "'''\n",
    "정수 n과 정수 배열 numlist가 매개변수로 주어질 때, \n",
    "numlist에서 n의 배수가 아닌 수들을 제거한 배열을 return하도록 \n",
    "solution 함수를 완성해주세요.\n",
    "'''\n",
    "\n",
    "def solution(n, numlist):\n",
    "    return list(filter(lambda v: v % n == 0, numlist))"
   ]
  },
  {
   "cell_type": "code",
   "execution_count": 16,
   "id": "5ad13d4e",
   "metadata": {},
   "outputs": [
    {
     "name": "stdout",
     "output_type": "stream",
     "text": [
      "[6, 9, 12]\n"
     ]
    }
   ],
   "source": [
    "n = 3\n",
    "numlist = [4, 5, 6, 7, 8, 9, 10, 11, 12]\n",
    "\n",
    "print(solution(n, numlist))"
   ]
  },
  {
   "cell_type": "markdown",
   "id": "6031ea7f",
   "metadata": {},
   "source": [
    "#### 비프 쉬프트 연산 <<, >>\n",
    "- 정수를 2배로 곱하거나 나누어 계산해줌\n",
    "- 컴퓨터 내부에는 2진수 형태로 값들이 저장되기 때문에, 2진수 형태로 저장되어 있는 값들을 왼쪽(<<)이나 오른쪽(>>)으로 지정한 비트 수만큼 밀어주면 2배씩 늘어나거나 1/2로 줄어들음\n",
    "- 왼쪽 비프시프트 ( << ): 오른쪽에 0이 주어진 개수만큼 추가\n",
    "- 오른쪽 비프시프트 ( >> ): 왼쪽에 0(0 또는 양의 정수인 경우)이나 1(음의 정수인 경우)이 개수만큼 추가되고, 가장 오른쪽에 있는 1비트는 사라짐"
   ]
  },
  {
   "cell_type": "code",
   "execution_count": 17,
   "id": "dcdc490a",
   "metadata": {},
   "outputs": [
    {
     "name": "stdout",
     "output_type": "stream",
     "text": [
      "20\n",
      "5\n",
      "40\n",
      "2\n"
     ]
    }
   ],
   "source": [
    "n = 10\n",
    "print(n << 1)      # 10을 2배 한 값인 20 출력\n",
    "print(n >> 1)      # 10을 1/2배 한 값인 5 출력\n",
    "print(n << 2)      # 10을 4배 한 값인 40 출력\n",
    "print(n >> 2)      # 10을 반으로 나눈 후 다시 반으로 나눈 값인 2 출력"
   ]
  },
  {
   "cell_type": "code",
   "execution_count": null,
   "id": "fb0a117c",
   "metadata": {},
   "outputs": [],
   "source": []
  }
 ],
 "metadata": {
  "kernelspec": {
   "display_name": "Python 3 (ipykernel)",
   "language": "python",
   "name": "python3"
  },
  "language_info": {
   "codemirror_mode": {
    "name": "ipython",
    "version": 3
   },
   "file_extension": ".py",
   "mimetype": "text/x-python",
   "name": "python",
   "nbconvert_exporter": "python",
   "pygments_lexer": "ipython3",
   "version": "3.9.13"
  }
 },
 "nbformat": 4,
 "nbformat_minor": 5
}
