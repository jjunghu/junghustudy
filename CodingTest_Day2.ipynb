{
 "cells": [
  {
   "cell_type": "markdown",
   "id": "5653bb72",
   "metadata": {},
   "source": [
    "### 코딩테스트 연습 2일차"
   ]
  },
  {
   "cell_type": "markdown",
   "id": "b709ee4e",
   "metadata": {},
   "source": [
    "#### 리스트 순서 뒤집기"
   ]
  },
  {
   "cell_type": "markdown",
   "id": "077fda7a",
   "metadata": {},
   "source": [
    "1. reverse(): 원본 리스트의 순서 변경\n",
    "2. slicing: 원본 리스트의 순서 변경하지 않음\n",
    "3. reversed(): 원본 리스트의 순서 변경하지 않음"
   ]
  },
  {
   "cell_type": "markdown",
   "id": "261cc428",
   "metadata": {},
   "source": [
    "reverse()\n",
    "- 주의할 점은 원본 리스트의 순서를 변경하기 때문에, 원본 리스트가 필요하다면 이 방법 사용하면 안됨"
   ]
  },
  {
   "cell_type": "code",
   "execution_count": 2,
   "id": "96a2c374",
   "metadata": {},
   "outputs": [
    {
     "name": "stdout",
     "output_type": "stream",
     "text": [
      "[12, 43, 20, 58, 60]\n",
      "[60, 58, 20, 43, 12]\n"
     ]
    }
   ],
   "source": [
    "num_list = [12, 43, 20, 58, 60]\n",
    "print(num_list)\n",
    "\n",
    "num_list.reverse()\n",
    "print(num_list)"
   ]
  },
  {
   "cell_type": "markdown",
   "id": "0cb42a1a",
   "metadata": {},
   "source": [
    "slicing 사용"
   ]
  },
  {
   "cell_type": "code",
   "execution_count": 3,
   "id": "11debb66",
   "metadata": {},
   "outputs": [
    {
     "name": "stdout",
     "output_type": "stream",
     "text": [
      "[12, 43, 20, 58, 60]\n",
      "[60, 58, 20, 43, 12]\n"
     ]
    }
   ],
   "source": [
    "num_list = [12, 43, 20, 58, 60]\n",
    "num_reverse = num_list[::-1]\n",
    "\n",
    "print(num_list)\n",
    "print(num_reverse)"
   ]
  },
  {
   "cell_type": "markdown",
   "id": "fc2bcc8f",
   "metadata": {},
   "source": [
    "reversed()\n",
    "- 리스트의 순서가 역순인 Iterator 객체를 리턴!!\n",
    "- 리스트로 변환하고 싶으면 list()로 감싸주어야 함\n",
    "- 원본 리스트는 변경하지 않고 역순의 리스트 제공"
   ]
  },
  {
   "cell_type": "code",
   "execution_count": 7,
   "id": "6a96f13a",
   "metadata": {},
   "outputs": [
    {
     "name": "stdout",
     "output_type": "stream",
     "text": [
      "[12, 43, 20, 58, 60]\n",
      "[60, 58, 20, 43, 12]\n"
     ]
    }
   ],
   "source": [
    "num_list = [12, 43, 20, 58, 60]\n",
    "num_reverse = list(reversed(num_list))\n",
    "\n",
    "print(num_list)\n",
    "print(num_reverse)"
   ]
  },
  {
   "cell_type": "code",
   "execution_count": null,
   "id": "2a07a41b",
   "metadata": {},
   "outputs": [],
   "source": []
  }
 ],
 "metadata": {
  "kernelspec": {
   "display_name": "Python 3 (ipykernel)",
   "language": "python",
   "name": "python3"
  },
  "language_info": {
   "codemirror_mode": {
    "name": "ipython",
    "version": 3
   },
   "file_extension": ".py",
   "mimetype": "text/x-python",
   "name": "python",
   "nbconvert_exporter": "python",
   "pygments_lexer": "ipython3",
   "version": "3.9.13"
  }
 },
 "nbformat": 4,
 "nbformat_minor": 5
}
